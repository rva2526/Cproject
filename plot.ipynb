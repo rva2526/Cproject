{
 "cells": [
  {
   "cell_type": "code",
   "execution_count": 2,
   "metadata": {},
   "outputs": [],
   "source": [
    "import pandas as pd \n",
    "import matplotlib.pyplot as plt"
   ]
  },
  {
   "cell_type": "code",
   "execution_count": 6,
   "metadata": {},
   "outputs": [
    {
     "data": {
      "text/html": [
       "<div>\n",
       "<style scoped>\n",
       "    .dataframe tbody tr th:only-of-type {\n",
       "        vertical-align: middle;\n",
       "    }\n",
       "\n",
       "    .dataframe tbody tr th {\n",
       "        vertical-align: top;\n",
       "    }\n",
       "\n",
       "    .dataframe thead th {\n",
       "        text-align: right;\n",
       "    }\n",
       "</style>\n",
       "<table border=\"1\" class=\"dataframe\">\n",
       "  <thead>\n",
       "    <tr style=\"text-align: right;\">\n",
       "      <th></th>\n",
       "      <th>Easting</th>\n",
       "      <th>Northing</th>\n",
       "      <th>Obs</th>\n",
       "      <th>Calc</th>\n",
       "    </tr>\n",
       "  </thead>\n",
       "  <tbody>\n",
       "    <tr>\n",
       "      <th>0</th>\n",
       "      <td>535843.289625</td>\n",
       "      <td>4.069294e+06</td>\n",
       "      <td>-0.220017</td>\n",
       "      <td>1.647337</td>\n",
       "    </tr>\n",
       "    <tr>\n",
       "      <th>1</th>\n",
       "      <td>535843.223230</td>\n",
       "      <td>4.069297e+06</td>\n",
       "      <td>0.060021</td>\n",
       "      <td>1.659524</td>\n",
       "    </tr>\n",
       "    <tr>\n",
       "      <th>2</th>\n",
       "      <td>535843.156118</td>\n",
       "      <td>4.069299e+06</td>\n",
       "      <td>0.439363</td>\n",
       "      <td>1.671385</td>\n",
       "    </tr>\n",
       "    <tr>\n",
       "      <th>3</th>\n",
       "      <td>535843.088408</td>\n",
       "      <td>4.069301e+06</td>\n",
       "      <td>0.419423</td>\n",
       "      <td>1.682979</td>\n",
       "    </tr>\n",
       "    <tr>\n",
       "      <th>4</th>\n",
       "      <td>535843.021542</td>\n",
       "      <td>4.069303e+06</td>\n",
       "      <td>0.199467</td>\n",
       "      <td>1.694221</td>\n",
       "    </tr>\n",
       "    <tr>\n",
       "      <th>...</th>\n",
       "      <td>...</td>\n",
       "      <td>...</td>\n",
       "      <td>...</td>\n",
       "      <td>...</td>\n",
       "    </tr>\n",
       "    <tr>\n",
       "      <th>503</th>\n",
       "      <td>535815.605398</td>\n",
       "      <td>4.070391e+06</td>\n",
       "      <td>0.125328</td>\n",
       "      <td>0.979684</td>\n",
       "    </tr>\n",
       "    <tr>\n",
       "      <th>504</th>\n",
       "      <td>535815.491836</td>\n",
       "      <td>4.070393e+06</td>\n",
       "      <td>-0.100536</td>\n",
       "      <td>0.969388</td>\n",
       "    </tr>\n",
       "    <tr>\n",
       "      <th>505</th>\n",
       "      <td>535815.371334</td>\n",
       "      <td>4.070395e+06</td>\n",
       "      <td>-0.526322</td>\n",
       "      <td>0.959233</td>\n",
       "    </tr>\n",
       "    <tr>\n",
       "      <th>506</th>\n",
       "      <td>535815.243523</td>\n",
       "      <td>4.070397e+06</td>\n",
       "      <td>-0.550862</td>\n",
       "      <td>0.949149</td>\n",
       "    </tr>\n",
       "    <tr>\n",
       "      <th>507</th>\n",
       "      <td>535815.107458</td>\n",
       "      <td>4.070399e+06</td>\n",
       "      <td>-0.075396</td>\n",
       "      <td>0.939207</td>\n",
       "    </tr>\n",
       "  </tbody>\n",
       "</table>\n",
       "<p>508 rows × 4 columns</p>\n",
       "</div>"
      ],
      "text/plain": [
       "           Easting      Northing       Obs      Calc\n",
       "0    535843.289625  4.069294e+06 -0.220017  1.647337\n",
       "1    535843.223230  4.069297e+06  0.060021  1.659524\n",
       "2    535843.156118  4.069299e+06  0.439363  1.671385\n",
       "3    535843.088408  4.069301e+06  0.419423  1.682979\n",
       "4    535843.021542  4.069303e+06  0.199467  1.694221\n",
       "..             ...           ...       ...       ...\n",
       "503  535815.605398  4.070391e+06  0.125328  0.979684\n",
       "504  535815.491836  4.070393e+06 -0.100536  0.969388\n",
       "505  535815.371334  4.070395e+06 -0.526322  0.959233\n",
       "506  535815.243523  4.070397e+06 -0.550862  0.949149\n",
       "507  535815.107458  4.070399e+06 -0.075396  0.939207\n",
       "\n",
       "[508 rows x 4 columns]"
      ]
     },
     "execution_count": 6,
     "metadata": {},
     "output_type": "execute_result"
    }
   ],
   "source": [
    "df = pd.read_csv(\"out.dat\", sep=' ',names=[\"Easting\",\"Northing\",\"Obs\",\"Calc\",\"Residuals\"])\n",
    "df"
   ]
  },
  {
   "cell_type": "code",
   "execution_count": 8,
   "metadata": {},
   "outputs": [
    {
     "data": {
      "text/plain": [
       "<matplotlib.collections.PathCollection at 0x7fc738841b20>"
      ]
     },
     "execution_count": 8,
     "metadata": {},
     "output_type": "execute_result"
    },
    {
     "data": {
      "image/png": "[encoded data removed]",
      "text/plain": [
       "<Figure size 640x480 with 1 Axes>"
      ]
     },
     "metadata": {},
     "output_type": "display_data"
    }
   ],
   "source": [
    "plt.scatter(df.Northing,df.Obs)\n",
    "plt.scatter(df.Northing,df.Calc)"
   ]
  },
  {
   "cell_type": "code",
   "execution_count": 9,
   "metadata": {},
   "outputs": [
    {
     "data": {
      "text/html": [
       "<div>\n",
       "<style scoped>\n",
       "    .dataframe tbody tr th:only-of-type {\n",
       "        vertical-align: middle;\n",
       "    }\n",
       "\n",
       "    .dataframe tbody tr th {\n",
       "        vertical-align: top;\n",
       "    }\n",
       "\n",
       "    .dataframe thead th {\n",
       "        text-align: right;\n",
       "    }\n",
       "</style>\n",
       "<table border=\"1\" class=\"dataframe\">\n",
       "  <thead>\n",
       "    <tr style=\"text-align: right;\">\n",
       "      <th></th>\n",
       "      <th>Easting</th>\n",
       "      <th>Northing</th>\n",
       "      <th>Obs</th>\n",
       "      <th>Calc</th>\n",
       "    </tr>\n",
       "  </thead>\n",
       "  <tbody>\n",
       "    <tr>\n",
       "      <th>0</th>\n",
       "      <td>535843.289625</td>\n",
       "      <td>4.069294e+06</td>\n",
       "      <td>-0.220017</td>\n",
       "      <td>1.647337</td>\n",
       "    </tr>\n",
       "    <tr>\n",
       "      <th>1</th>\n",
       "      <td>535843.223230</td>\n",
       "      <td>4.069297e+06</td>\n",
       "      <td>0.060021</td>\n",
       "      <td>1.659524</td>\n",
       "    </tr>\n",
       "    <tr>\n",
       "      <th>2</th>\n",
       "      <td>535843.156118</td>\n",
       "      <td>4.069299e+06</td>\n",
       "      <td>0.439363</td>\n",
       "      <td>1.671385</td>\n",
       "    </tr>\n",
       "    <tr>\n",
       "      <th>3</th>\n",
       "      <td>535843.088408</td>\n",
       "      <td>4.069301e+06</td>\n",
       "      <td>0.419423</td>\n",
       "      <td>1.682979</td>\n",
       "    </tr>\n",
       "    <tr>\n",
       "      <th>4</th>\n",
       "      <td>535843.021542</td>\n",
       "      <td>4.069303e+06</td>\n",
       "      <td>0.199467</td>\n",
       "      <td>1.694221</td>\n",
       "    </tr>\n",
       "    <tr>\n",
       "      <th>...</th>\n",
       "      <td>...</td>\n",
       "      <td>...</td>\n",
       "      <td>...</td>\n",
       "      <td>...</td>\n",
       "    </tr>\n",
       "    <tr>\n",
       "      <th>503</th>\n",
       "      <td>535815.605398</td>\n",
       "      <td>4.070391e+06</td>\n",
       "      <td>0.125328</td>\n",
       "      <td>0.979684</td>\n",
       "    </tr>\n",
       "    <tr>\n",
       "      <th>504</th>\n",
       "      <td>535815.491836</td>\n",
       "      <td>4.070393e+06</td>\n",
       "      <td>-0.100536</td>\n",
       "      <td>0.969388</td>\n",
       "    </tr>\n",
       "    <tr>\n",
       "      <th>505</th>\n",
       "      <td>535815.371334</td>\n",
       "      <td>4.070395e+06</td>\n",
       "      <td>-0.526322</td>\n",
       "      <td>0.959233</td>\n",
       "    </tr>\n",
       "    <tr>\n",
       "      <th>506</th>\n",
       "      <td>535815.243523</td>\n",
       "      <td>4.070397e+06</td>\n",
       "      <td>-0.550862</td>\n",
       "      <td>0.949149</td>\n",
       "    </tr>\n",
       "    <tr>\n",
       "      <th>507</th>\n",
       "      <td>535815.107458</td>\n",
       "      <td>4.070399e+06</td>\n",
       "      <td>-0.075396</td>\n",
       "      <td>0.939207</td>\n",
       "    </tr>\n",
       "  </tbody>\n",
       "</table>\n",
       "<p>508 rows × 4 columns</p>\n",
       "</div>"
      ],
      "text/plain": [
       "           Easting      Northing       Obs      Calc\n",
       "0    535843.289625  4.069294e+06 -0.220017  1.647337\n",
       "1    535843.223230  4.069297e+06  0.060021  1.659524\n",
       "2    535843.156118  4.069299e+06  0.439363  1.671385\n",
       "3    535843.088408  4.069301e+06  0.419423  1.682979\n",
       "4    535843.021542  4.069303e+06  0.199467  1.694221\n",
       "..             ...           ...       ...       ...\n",
       "503  535815.605398  4.070391e+06  0.125328  0.979684\n",
       "504  535815.491836  4.070393e+06 -0.100536  0.969388\n",
       "505  535815.371334  4.070395e+06 -0.526322  0.959233\n",
       "506  535815.243523  4.070397e+06 -0.550862  0.949149\n",
       "507  535815.107458  4.070399e+06 -0.075396  0.939207\n",
       "\n",
       "[508 rows x 4 columns]"
      ]
     },
     "execution_count": 9,
     "metadata": {},
     "output_type": "execute_result"
    }
   ],
   "source": [
    "df2 = pd.read_csv(\"out2.dat\", sep=' ',names=[\"Easting\",\"Northing\",\"Obs\",\"Calc\"])\n",
    "df2"
   ]
  },
  {
   "cell_type": "code",
   "execution_count": 10,
   "metadata": {},
   "outputs": [
    {
     "data": {
      "text/plain": [
       "<matplotlib.collections.PathCollection at 0x7fc731573da0>"
      ]
     },
     "execution_count": 10,
     "metadata": {},
     "output_type": "execute_result"
    },
    {
     "data": {
      "image/png": "[encoded data removed]",
      "text/plain": [
       "<Figure size 640x480 with 1 Axes>"
      ]
     },
     "metadata": {},
     "output_type": "display_data"
    }
   ],
   "source": [
    "plt.scatter(df2.Northing,df2.Obs)\n",
    "plt.scatter(df2.Northing,df2.Calc)"
   ]
  }
 ],
 "metadata": {
  "kernelspec": {
   "display_name": "base",
   "language": "python",
   "name": "python3"
  },
  "language_info": {
   "codemirror_mode": {
    "name": "ipython",
    "version": 3
   },
   "file_extension": ".py",
   "mimetype": "text/x-python",
   "name": "python",
   "nbconvert_exporter": "python",
   "pygments_lexer": "ipython3",
   "version": "3.12.8"
  }
 },
 "nbformat": 4,
 "nbformat_minor": 2
}
