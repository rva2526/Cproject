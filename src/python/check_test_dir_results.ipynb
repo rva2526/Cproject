{
 "cells": [
  {
   "cell_type": "code",
   "execution_count": 4,
   "metadata": {},
   "outputs": [],
   "source": [
    "import pandas as pd\n",
    "import matplotlib.pyplot as plt"
   ]
  },
  {
   "cell_type": "code",
   "execution_count": 5,
   "metadata": {},
   "outputs": [
    {
     "data": {
      "text/html": [
       "<div>\n",
       "<style scoped>\n",
       "    .dataframe tbody tr th:only-of-type {\n",
       "        vertical-align: middle;\n",
       "    }\n",
       "\n",
       "    .dataframe tbody tr th {\n",
       "        vertical-align: top;\n",
       "    }\n",
       "\n",
       "    .dataframe thead th {\n",
       "        text-align: right;\n",
       "    }\n",
       "</style>\n",
       "<table border=\"1\" class=\"dataframe\">\n",
       "  <thead>\n",
       "    <tr style=\"text-align: right;\">\n",
       "      <th></th>\n",
       "      <th>X</th>\n",
       "      <th>Y</th>\n",
       "      <th>Mag</th>\n",
       "    </tr>\n",
       "  </thead>\n",
       "  <tbody>\n",
       "    <tr>\n",
       "      <th>0</th>\n",
       "      <td>535843.289625</td>\n",
       "      <td>4.069294e+06</td>\n",
       "      <td>-0.220017</td>\n",
       "    </tr>\n",
       "    <tr>\n",
       "      <th>1</th>\n",
       "      <td>535843.223230</td>\n",
       "      <td>4.069297e+06</td>\n",
       "      <td>0.060021</td>\n",
       "    </tr>\n",
       "    <tr>\n",
       "      <th>2</th>\n",
       "      <td>535843.156118</td>\n",
       "      <td>4.069299e+06</td>\n",
       "      <td>0.439363</td>\n",
       "    </tr>\n",
       "    <tr>\n",
       "      <th>3</th>\n",
       "      <td>535843.088408</td>\n",
       "      <td>4.069301e+06</td>\n",
       "      <td>0.419423</td>\n",
       "    </tr>\n",
       "    <tr>\n",
       "      <th>4</th>\n",
       "      <td>535843.021542</td>\n",
       "      <td>4.069303e+06</td>\n",
       "      <td>0.199467</td>\n",
       "    </tr>\n",
       "    <tr>\n",
       "      <th>...</th>\n",
       "      <td>...</td>\n",
       "      <td>...</td>\n",
       "      <td>...</td>\n",
       "    </tr>\n",
       "    <tr>\n",
       "      <th>503</th>\n",
       "      <td>535815.605398</td>\n",
       "      <td>4.070391e+06</td>\n",
       "      <td>0.125328</td>\n",
       "    </tr>\n",
       "    <tr>\n",
       "      <th>504</th>\n",
       "      <td>535815.491836</td>\n",
       "      <td>4.070393e+06</td>\n",
       "      <td>-0.100536</td>\n",
       "    </tr>\n",
       "    <tr>\n",
       "      <th>505</th>\n",
       "      <td>535815.371334</td>\n",
       "      <td>4.070395e+06</td>\n",
       "      <td>-0.526322</td>\n",
       "    </tr>\n",
       "    <tr>\n",
       "      <th>506</th>\n",
       "      <td>535815.243523</td>\n",
       "      <td>4.070397e+06</td>\n",
       "      <td>-0.550862</td>\n",
       "    </tr>\n",
       "    <tr>\n",
       "      <th>507</th>\n",
       "      <td>535815.107458</td>\n",
       "      <td>4.070399e+06</td>\n",
       "      <td>-0.075396</td>\n",
       "    </tr>\n",
       "  </tbody>\n",
       "</table>\n",
       "<p>508 rows × 3 columns</p>\n",
       "</div>"
      ],
      "text/plain": [
       "                 X             Y       Mag\n",
       "0    535843.289625  4.069294e+06 -0.220017\n",
       "1    535843.223230  4.069297e+06  0.060021\n",
       "2    535843.156118  4.069299e+06  0.439363\n",
       "3    535843.088408  4.069301e+06  0.419423\n",
       "4    535843.021542  4.069303e+06  0.199467\n",
       "..             ...           ...       ...\n",
       "503  535815.605398  4.070391e+06  0.125328\n",
       "504  535815.491836  4.070393e+06 -0.100536\n",
       "505  535815.371334  4.070395e+06 -0.526322\n",
       "506  535815.243523  4.070397e+06 -0.550862\n",
       "507  535815.107458  4.070399e+06 -0.075396\n",
       "\n",
       "[508 rows x 3 columns]"
      ]
     },
     "execution_count": 5,
     "metadata": {},
     "output_type": "execute_result"
    }
   ],
   "source": [
    "example = pd.read_csv(\"/home/jovyan/Cproject/test/example_line.txt\",sep=' ',header=None,names=[\"X\",\"Y\",\"Mag\"])\n",
    "example.sort_values(by='X',ascending=False,inplace=True)\n",
    "example"
   ]
  },
  {
   "cell_type": "code",
   "execution_count": 6,
   "metadata": {},
   "outputs": [
    {
     "data": {
      "text/html": [
       "<div>\n",
       "<style scoped>\n",
       "    .dataframe tbody tr th:only-of-type {\n",
       "        vertical-align: middle;\n",
       "    }\n",
       "\n",
       "    .dataframe tbody tr th {\n",
       "        vertical-align: top;\n",
       "    }\n",
       "\n",
       "    .dataframe thead th {\n",
       "        text-align: right;\n",
       "    }\n",
       "</style>\n",
       "<table border=\"1\" class=\"dataframe\">\n",
       "  <thead>\n",
       "    <tr style=\"text-align: right;\">\n",
       "      <th></th>\n",
       "      <th>X</th>\n",
       "      <th>Y</th>\n",
       "      <th>Mag</th>\n",
       "      <th>Calc_mag</th>\n",
       "      <th>Residuals</th>\n",
       "    </tr>\n",
       "  </thead>\n",
       "  <tbody>\n",
       "    <tr>\n",
       "      <th>0</th>\n",
       "      <td>535843.289625</td>\n",
       "      <td>4.069294e+06</td>\n",
       "      <td>-0.220017</td>\n",
       "      <td>1.640006</td>\n",
       "      <td>-1.860023</td>\n",
       "    </tr>\n",
       "    <tr>\n",
       "      <th>1</th>\n",
       "      <td>535843.223230</td>\n",
       "      <td>4.069297e+06</td>\n",
       "      <td>0.060021</td>\n",
       "      <td>1.652139</td>\n",
       "      <td>-1.592118</td>\n",
       "    </tr>\n",
       "    <tr>\n",
       "      <th>2</th>\n",
       "      <td>535843.156118</td>\n",
       "      <td>4.069299e+06</td>\n",
       "      <td>0.439363</td>\n",
       "      <td>1.663947</td>\n",
       "      <td>-1.224584</td>\n",
       "    </tr>\n",
       "    <tr>\n",
       "      <th>3</th>\n",
       "      <td>535843.088408</td>\n",
       "      <td>4.069301e+06</td>\n",
       "      <td>0.419423</td>\n",
       "      <td>1.675489</td>\n",
       "      <td>-1.256066</td>\n",
       "    </tr>\n",
       "    <tr>\n",
       "      <th>4</th>\n",
       "      <td>535843.021542</td>\n",
       "      <td>4.069303e+06</td>\n",
       "      <td>0.199467</td>\n",
       "      <td>1.686681</td>\n",
       "      <td>-1.487214</td>\n",
       "    </tr>\n",
       "    <tr>\n",
       "      <th>...</th>\n",
       "      <td>...</td>\n",
       "      <td>...</td>\n",
       "      <td>...</td>\n",
       "      <td>...</td>\n",
       "      <td>...</td>\n",
       "    </tr>\n",
       "    <tr>\n",
       "      <th>503</th>\n",
       "      <td>535815.605398</td>\n",
       "      <td>4.070391e+06</td>\n",
       "      <td>0.125328</td>\n",
       "      <td>0.975324</td>\n",
       "      <td>-0.849996</td>\n",
       "    </tr>\n",
       "    <tr>\n",
       "      <th>504</th>\n",
       "      <td>535815.491836</td>\n",
       "      <td>4.070393e+06</td>\n",
       "      <td>-0.100536</td>\n",
       "      <td>0.965074</td>\n",
       "      <td>-1.065610</td>\n",
       "    </tr>\n",
       "    <tr>\n",
       "      <th>505</th>\n",
       "      <td>535815.371334</td>\n",
       "      <td>4.070395e+06</td>\n",
       "      <td>-0.526322</td>\n",
       "      <td>0.954964</td>\n",
       "      <td>-1.481286</td>\n",
       "    </tr>\n",
       "    <tr>\n",
       "      <th>506</th>\n",
       "      <td>535815.243523</td>\n",
       "      <td>4.070397e+06</td>\n",
       "      <td>-0.550862</td>\n",
       "      <td>0.944925</td>\n",
       "      <td>-1.495787</td>\n",
       "    </tr>\n",
       "    <tr>\n",
       "      <th>507</th>\n",
       "      <td>535815.107458</td>\n",
       "      <td>4.070399e+06</td>\n",
       "      <td>-0.075396</td>\n",
       "      <td>0.935027</td>\n",
       "      <td>-1.010423</td>\n",
       "    </tr>\n",
       "  </tbody>\n",
       "</table>\n",
       "<p>508 rows × 5 columns</p>\n",
       "</div>"
      ],
      "text/plain": [
       "                 X             Y       Mag  Calc_mag  Residuals\n",
       "0    535843.289625  4.069294e+06 -0.220017  1.640006  -1.860023\n",
       "1    535843.223230  4.069297e+06  0.060021  1.652139  -1.592118\n",
       "2    535843.156118  4.069299e+06  0.439363  1.663947  -1.224584\n",
       "3    535843.088408  4.069301e+06  0.419423  1.675489  -1.256066\n",
       "4    535843.021542  4.069303e+06  0.199467  1.686681  -1.487214\n",
       "..             ...           ...       ...       ...        ...\n",
       "503  535815.605398  4.070391e+06  0.125328  0.975324  -0.849996\n",
       "504  535815.491836  4.070393e+06 -0.100536  0.965074  -1.065610\n",
       "505  535815.371334  4.070395e+06 -0.526322  0.954964  -1.481286\n",
       "506  535815.243523  4.070397e+06 -0.550862  0.944925  -1.495787\n",
       "507  535815.107458  4.070399e+06 -0.075396  0.935027  -1.010423\n",
       "\n",
       "[508 rows x 5 columns]"
      ]
     },
     "execution_count": 6,
     "metadata": {},
     "output_type": "execute_result"
    }
   ],
   "source": [
    "plouf_result = pd.read_csv(\"/home/jovyan/Cproject/test/example_plouf_result.txt\",sep=' ',header=None,names=[\"X\",\"Y\",\"Mag\",\"Calc_mag\",\"Residuals\"])\n",
    "plouf_result.sort_values(by='X',ascending=False,inplace=True)\n",
    "plouf_result"
   ]
  },
  {
   "cell_type": "code",
   "execution_count": 7,
   "metadata": {},
   "outputs": [
    {
     "data": {
      "text/plain": [
       "<matplotlib.collections.PathCollection at 0x7f440bfa2e60>"
      ]
     },
     "execution_count": 7,
     "metadata": {},
     "output_type": "execute_result"
    },
    {
     "data": {
      "image/png": "[encoded data removed]",
      "text/plain": [
       "<Figure size 640x480 with 1 Axes>"
      ]
     },
     "metadata": {},
     "output_type": "display_data"
    }
   ],
   "source": [
    "plt.scatter(example.Y,example.Mag)\n",
    "plt.scatter(plouf_result.Y,plouf_result.Calc_mag)"
   ]
  },
  {
   "cell_type": "code",
   "execution_count": 22,
   "metadata": {},
   "outputs": [
    {
     "data": {
      "text/plain": [
       "<matplotlib.collections.PathCollection at 0x7fa73ca65a50>"
      ]
     },
     "execution_count": 22,
     "metadata": {},
     "output_type": "execute_result"
    },
    {
     "data": {
      "image/png": "[encoded data removed]",
      "text/plain": [
       "<Figure size 640x480 with 1 Axes>"
      ]
     },
     "metadata": {},
     "output_type": "display_data"
    }
   ],
   "source": [
    "plt.scatter(example.Y,example.Mag)\n",
    "plt.scatter(plouf_result.Y,plouf_result.Calc_mag)"
   ]
  },
  {
   "cell_type": "code",
   "execution_count": null,
   "metadata": {},
   "outputs": [],
   "source": []
  }
 ],
 "metadata": {
  "kernelspec": {
   "display_name": "notebook",
   "language": "python",
   "name": "python3"
  },
  "language_info": {
   "codemirror_mode": {
    "name": "ipython",
    "version": 3
   },
   "file_extension": ".py",
   "mimetype": "text/x-python",
   "name": "python",
   "nbconvert_exporter": "python",
   "pygments_lexer": "ipython3",
   "version": "3.10.16"
  }
 },
 "nbformat": 4,
 "nbformat_minor": 2
}
