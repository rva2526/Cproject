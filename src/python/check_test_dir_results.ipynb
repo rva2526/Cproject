{
 "cells": [
  {
   "cell_type": "code",
   "execution_count": null,
   "metadata": {},
   "outputs": [],
   "source": [
    "import pandas as pd\n",
    "import matplotlib.pyplot as plt"
   ]
  },
  {
   "cell_type": "code",
   "execution_count": null,
   "metadata": {},
   "outputs": [
    {
     "data": {
      "text/html": [
       "<div>\n",
       "<style scoped>\n",
       "    .dataframe tbody tr th:only-of-type {\n",
       "        vertical-align: middle;\n",
       "    }\n",
       "\n",
       "    .dataframe tbody tr th {\n",
       "        vertical-align: top;\n",
       "    }\n",
       "\n",
       "    .dataframe thead th {\n",
       "        text-align: right;\n",
       "    }\n",
       "</style>\n",
       "<table border=\"1\" class=\"dataframe\">\n",
       "  <thead>\n",
       "    <tr style=\"text-align: right;\">\n",
       "      <th></th>\n",
       "      <th>X</th>\n",
       "      <th>Y</th>\n",
       "      <th>Mag</th>\n",
       "    </tr>\n",
       "  </thead>\n",
       "  <tbody>\n",
       "    <tr>\n",
       "      <th>0</th>\n",
       "      <td>544337</td>\n",
       "      <td>4051114</td>\n",
       "      <td>-9.582645</td>\n",
       "    </tr>\n",
       "    <tr>\n",
       "      <th>1</th>\n",
       "      <td>544337</td>\n",
       "      <td>4051117</td>\n",
       "      <td>-9.582645</td>\n",
       "    </tr>\n",
       "    <tr>\n",
       "      <th>2</th>\n",
       "      <td>544337</td>\n",
       "      <td>4051119</td>\n",
       "      <td>-6.582645</td>\n",
       "    </tr>\n",
       "    <tr>\n",
       "      <th>3</th>\n",
       "      <td>544337</td>\n",
       "      <td>4051121</td>\n",
       "      <td>-4.582645</td>\n",
       "    </tr>\n",
       "    <tr>\n",
       "      <th>4</th>\n",
       "      <td>544337</td>\n",
       "      <td>4051124</td>\n",
       "      <td>-4.582645</td>\n",
       "    </tr>\n",
       "    <tr>\n",
       "      <th>...</th>\n",
       "      <td>...</td>\n",
       "      <td>...</td>\n",
       "      <td>...</td>\n",
       "    </tr>\n",
       "    <tr>\n",
       "      <th>479</th>\n",
       "      <td>544352</td>\n",
       "      <td>4051772</td>\n",
       "      <td>27.417355</td>\n",
       "    </tr>\n",
       "    <tr>\n",
       "      <th>480</th>\n",
       "      <td>544352</td>\n",
       "      <td>4051775</td>\n",
       "      <td>28.417355</td>\n",
       "    </tr>\n",
       "    <tr>\n",
       "      <th>481</th>\n",
       "      <td>544353</td>\n",
       "      <td>4051765</td>\n",
       "      <td>21.417355</td>\n",
       "    </tr>\n",
       "    <tr>\n",
       "      <th>482</th>\n",
       "      <td>544353</td>\n",
       "      <td>4051767</td>\n",
       "      <td>24.417355</td>\n",
       "    </tr>\n",
       "    <tr>\n",
       "      <th>483</th>\n",
       "      <td>544354</td>\n",
       "      <td>4051014</td>\n",
       "      <td>39.417355</td>\n",
       "    </tr>\n",
       "  </tbody>\n",
       "</table>\n",
       "<p>484 rows × 3 columns</p>\n",
       "</div>"
      ],
      "text/plain": [
       "          X        Y        Mag\n",
       "0    544337  4051114  -9.582645\n",
       "1    544337  4051117  -9.582645\n",
       "2    544337  4051119  -6.582645\n",
       "3    544337  4051121  -4.582645\n",
       "4    544337  4051124  -4.582645\n",
       "..      ...      ...        ...\n",
       "479  544352  4051772  27.417355\n",
       "480  544352  4051775  28.417355\n",
       "481  544353  4051765  21.417355\n",
       "482  544353  4051767  24.417355\n",
       "483  544354  4051014  39.417355\n",
       "\n",
       "[484 rows x 3 columns]"
      ]
     },
     "execution_count": 173,
     "metadata": {},
     "output_type": "execute_result"
    }
   ],
   "source": [
    "example = pd.read_csv(\"/home/jovyan/Cproject/data/observed_data/anomaly_a_southwest_line_pts_reduced.csv\",sep=' ',header=None,names=[\"X\",\"Y\",\"Mag\"])\n",
    "example.sort_values(by=['X','Y'],ascending=True,inplace=True)\n",
    "example"
   ]
  },
  {
   "cell_type": "code",
   "execution_count": null,
   "metadata": {},
   "outputs": [
    {
     "data": {
      "text/html": [
       "<div>\n",
       "<style scoped>\n",
       "    .dataframe tbody tr th:only-of-type {\n",
       "        vertical-align: middle;\n",
       "    }\n",
       "\n",
       "    .dataframe tbody tr th {\n",
       "        vertical-align: top;\n",
       "    }\n",
       "\n",
       "    .dataframe thead th {\n",
       "        text-align: right;\n",
       "    }\n",
       "</style>\n",
       "<table border=\"1\" class=\"dataframe\">\n",
       "  <thead>\n",
       "    <tr style=\"text-align: right;\">\n",
       "      <th></th>\n",
       "      <th>X</th>\n",
       "      <th>Y</th>\n",
       "      <th>Mag</th>\n",
       "      <th>Calc_mag</th>\n",
       "      <th>Residuals</th>\n",
       "    </tr>\n",
       "  </thead>\n",
       "  <tbody>\n",
       "    <tr>\n",
       "      <th>483</th>\n",
       "      <td>544354.0</td>\n",
       "      <td>4051014.0</td>\n",
       "      <td>39.417355</td>\n",
       "      <td>-10.479849</td>\n",
       "      <td>49.897204</td>\n",
       "    </tr>\n",
       "    <tr>\n",
       "      <th>482</th>\n",
       "      <td>544353.0</td>\n",
       "      <td>4051767.0</td>\n",
       "      <td>24.417355</td>\n",
       "      <td>19.711619</td>\n",
       "      <td>4.705736</td>\n",
       "    </tr>\n",
       "    <tr>\n",
       "      <th>481</th>\n",
       "      <td>544353.0</td>\n",
       "      <td>4051765.0</td>\n",
       "      <td>21.417355</td>\n",
       "      <td>19.767795</td>\n",
       "      <td>1.649560</td>\n",
       "    </tr>\n",
       "    <tr>\n",
       "      <th>476</th>\n",
       "      <td>544352.0</td>\n",
       "      <td>4051760.0</td>\n",
       "      <td>18.417355</td>\n",
       "      <td>19.889985</td>\n",
       "      <td>-1.472630</td>\n",
       "    </tr>\n",
       "    <tr>\n",
       "      <th>479</th>\n",
       "      <td>544352.0</td>\n",
       "      <td>4051772.0</td>\n",
       "      <td>27.417355</td>\n",
       "      <td>19.546543</td>\n",
       "      <td>7.870812</td>\n",
       "    </tr>\n",
       "    <tr>\n",
       "      <th>...</th>\n",
       "      <td>...</td>\n",
       "      <td>...</td>\n",
       "      <td>...</td>\n",
       "      <td>...</td>\n",
       "      <td>...</td>\n",
       "    </tr>\n",
       "    <tr>\n",
       "      <th>19</th>\n",
       "      <td>544337.0</td>\n",
       "      <td>4051237.0</td>\n",
       "      <td>-29.582645</td>\n",
       "      <td>-31.752672</td>\n",
       "      <td>2.170028</td>\n",
       "    </tr>\n",
       "    <tr>\n",
       "      <th>20</th>\n",
       "      <td>544337.0</td>\n",
       "      <td>4051240.0</td>\n",
       "      <td>-22.582645</td>\n",
       "      <td>-32.040702</td>\n",
       "      <td>9.458057</td>\n",
       "    </tr>\n",
       "    <tr>\n",
       "      <th>2</th>\n",
       "      <td>544337.0</td>\n",
       "      <td>4051119.0</td>\n",
       "      <td>-6.582645</td>\n",
       "      <td>-18.586597</td>\n",
       "      <td>12.003953</td>\n",
       "    </tr>\n",
       "    <tr>\n",
       "      <th>1</th>\n",
       "      <td>544337.0</td>\n",
       "      <td>4051117.0</td>\n",
       "      <td>-9.582645</td>\n",
       "      <td>-18.377182</td>\n",
       "      <td>8.794537</td>\n",
       "    </tr>\n",
       "    <tr>\n",
       "      <th>0</th>\n",
       "      <td>544337.0</td>\n",
       "      <td>4051114.0</td>\n",
       "      <td>-9.582645</td>\n",
       "      <td>-18.065683</td>\n",
       "      <td>8.483038</td>\n",
       "    </tr>\n",
       "  </tbody>\n",
       "</table>\n",
       "<p>484 rows × 5 columns</p>\n",
       "</div>"
      ],
      "text/plain": [
       "            X          Y        Mag   Calc_mag  Residuals\n",
       "483  544354.0  4051014.0  39.417355 -10.479849  49.897204\n",
       "482  544353.0  4051767.0  24.417355  19.711619   4.705736\n",
       "481  544353.0  4051765.0  21.417355  19.767795   1.649560\n",
       "476  544352.0  4051760.0  18.417355  19.889985  -1.472630\n",
       "479  544352.0  4051772.0  27.417355  19.546543   7.870812\n",
       "..        ...        ...        ...        ...        ...\n",
       "19   544337.0  4051237.0 -29.582645 -31.752672   2.170028\n",
       "20   544337.0  4051240.0 -22.582645 -32.040702   9.458057\n",
       "2    544337.0  4051119.0  -6.582645 -18.586597  12.003953\n",
       "1    544337.0  4051117.0  -9.582645 -18.377182   8.794537\n",
       "0    544337.0  4051114.0  -9.582645 -18.065683   8.483038\n",
       "\n",
       "[484 rows x 5 columns]"
      ]
     },
     "execution_count": 174,
     "metadata": {},
     "output_type": "execute_result"
    }
   ],
   "source": [
    "plouf_result = pd.read_csv(\"/home/jovyan/Cproject/out.dat\",sep=' ',header=None,names=[\"X\",\"Y\",\"Mag\",\"Calc_mag\",\"Residuals\"])\n",
    "plouf_result.sort_values(by='X',ascending=False,inplace=True)\n",
    "plouf_result"
   ]
  },
  {
   "cell_type": "code",
   "execution_count": 175,
   "metadata": {},
   "outputs": [
    {
     "data": {
      "text/plain": [
       "<matplotlib.collections.PathCollection at 0x7f4492c633a0>"
      ]
     },
     "execution_count": 175,
     "metadata": {},
     "output_type": "execute_result"
    },
    {
     "data": {
      "image/png": "[encoded data removed]",
      "text/plain": [
       "<Figure size 640x480 with 1 Axes>"
      ]
     },
     "metadata": {},
     "output_type": "display_data"
    }
   ],
   "source": [
    "plt.scatter(example.Y,example.Mag,s=1)\n",
    "plt.scatter(plouf_result.Y,plouf_result.Calc_mag,s=2)"
   ]
  },
  {
   "cell_type": "code",
   "execution_count": 180,
   "metadata": {},
   "outputs": [
    {
     "data": {
      "text/plain": [
       "<matplotlib.collections.PathCollection at 0x7f44926c4e20>"
      ]
     },
     "execution_count": 180,
     "metadata": {},
     "output_type": "execute_result"
    },
    {
     "data": {
      "image/png": "[encoded data removed]",
      "text/plain": [
       "<Figure size 640x480 with 1 Axes>"
      ]
     },
     "metadata": {},
     "output_type": "display_data"
    }
   ],
   "source": [
    "plt.scatter(plouf_result.Y,plouf_result.Residuals,s=2)"
   ]
  },
  {
   "cell_type": "code",
   "execution_count": 177,
   "metadata": {},
   "outputs": [],
   "source": [
    "# example = pd.read_csv(\"/home/jovyan/Cproject/data/observed_data/anomaly_a_southwest_line_pts2.csv\",sep=' ',header=None,names=[\"X\",\"Y\",\"Mag\"])\n",
    "# example.sort_values(by=['X','Y'],ascending=True,inplace=True)\n",
    "# example"
   ]
  },
  {
   "cell_type": "code",
   "execution_count": 178,
   "metadata": {},
   "outputs": [],
   "source": [
    "# example['Mag'] -= example.Mag.mean()\n",
    "# example"
   ]
  },
  {
   "cell_type": "code",
   "execution_count": 179,
   "metadata": {},
   "outputs": [],
   "source": [
    "# example.to_csv(\"/home/jovyan/Cproject/data/observed_data/anomaly_a_southwest_line_pts2_reduced.csv\",sep=' ',index=False,header=None)"
   ]
  },
  {
   "cell_type": "code",
   "execution_count": null,
   "metadata": {},
   "outputs": [],
   "source": []
  }
 ],
 "metadata": {
  "kernelspec": {
   "display_name": "notebook",
   "language": "python",
   "name": "python3"
  },
  "language_info": {
   "codemirror_mode": {
    "name": "ipython",
    "version": 3
   },
   "file_extension": ".py",
   "mimetype": "text/x-python",
   "name": "python",
   "nbconvert_exporter": "python",
   "pygments_lexer": "ipython3",
   "version": "3.10.16"
  }
 },
 "nbformat": 4,
 "nbformat_minor": 2
}
