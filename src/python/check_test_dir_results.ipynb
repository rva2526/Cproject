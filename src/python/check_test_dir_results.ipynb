{
 "cells": [
  {
   "cell_type": "code",
   "execution_count": 5,
   "metadata": {},
   "outputs": [],
   "source": [
    "import pandas as pd\n",
    "import matplotlib.pyplot as plt"
   ]
  },
  {
   "cell_type": "code",
   "execution_count": 6,
   "metadata": {},
   "outputs": [
    {
     "data": {
      "text/html": [
       "<div>\n",
       "<style scoped>\n",
       "    .dataframe tbody tr th:only-of-type {\n",
       "        vertical-align: middle;\n",
       "    }\n",
       "\n",
       "    .dataframe tbody tr th {\n",
       "        vertical-align: top;\n",
       "    }\n",
       "\n",
       "    .dataframe thead th {\n",
       "        text-align: right;\n",
       "    }\n",
       "</style>\n",
       "<table border=\"1\" class=\"dataframe\">\n",
       "  <thead>\n",
       "    <tr style=\"text-align: right;\">\n",
       "      <th></th>\n",
       "      <th>X</th>\n",
       "      <th>Y</th>\n",
       "      <th>Mag</th>\n",
       "    </tr>\n",
       "  </thead>\n",
       "  <tbody>\n",
       "    <tr>\n",
       "      <th>0</th>\n",
       "      <td>535843.289625</td>\n",
       "      <td>4.069294e+06</td>\n",
       "      <td>-0.220017</td>\n",
       "    </tr>\n",
       "    <tr>\n",
       "      <th>1</th>\n",
       "      <td>535843.223230</td>\n",
       "      <td>4.069297e+06</td>\n",
       "      <td>0.060021</td>\n",
       "    </tr>\n",
       "    <tr>\n",
       "      <th>2</th>\n",
       "      <td>535843.156118</td>\n",
       "      <td>4.069299e+06</td>\n",
       "      <td>0.439363</td>\n",
       "    </tr>\n",
       "    <tr>\n",
       "      <th>3</th>\n",
       "      <td>535843.088408</td>\n",
       "      <td>4.069301e+06</td>\n",
       "      <td>0.419423</td>\n",
       "    </tr>\n",
       "    <tr>\n",
       "      <th>4</th>\n",
       "      <td>535843.021542</td>\n",
       "      <td>4.069303e+06</td>\n",
       "      <td>0.199467</td>\n",
       "    </tr>\n",
       "    <tr>\n",
       "      <th>...</th>\n",
       "      <td>...</td>\n",
       "      <td>...</td>\n",
       "      <td>...</td>\n",
       "    </tr>\n",
       "    <tr>\n",
       "      <th>503</th>\n",
       "      <td>535815.605398</td>\n",
       "      <td>4.070391e+06</td>\n",
       "      <td>0.125328</td>\n",
       "    </tr>\n",
       "    <tr>\n",
       "      <th>504</th>\n",
       "      <td>535815.491836</td>\n",
       "      <td>4.070393e+06</td>\n",
       "      <td>-0.100536</td>\n",
       "    </tr>\n",
       "    <tr>\n",
       "      <th>505</th>\n",
       "      <td>535815.371334</td>\n",
       "      <td>4.070395e+06</td>\n",
       "      <td>-0.526322</td>\n",
       "    </tr>\n",
       "    <tr>\n",
       "      <th>506</th>\n",
       "      <td>535815.243523</td>\n",
       "      <td>4.070397e+06</td>\n",
       "      <td>-0.550862</td>\n",
       "    </tr>\n",
       "    <tr>\n",
       "      <th>507</th>\n",
       "      <td>535815.107458</td>\n",
       "      <td>4.070399e+06</td>\n",
       "      <td>-0.075396</td>\n",
       "    </tr>\n",
       "  </tbody>\n",
       "</table>\n",
       "<p>508 rows × 3 columns</p>\n",
       "</div>"
      ],
      "text/plain": [
       "                 X             Y       Mag\n",
       "0    535843.289625  4.069294e+06 -0.220017\n",
       "1    535843.223230  4.069297e+06  0.060021\n",
       "2    535843.156118  4.069299e+06  0.439363\n",
       "3    535843.088408  4.069301e+06  0.419423\n",
       "4    535843.021542  4.069303e+06  0.199467\n",
       "..             ...           ...       ...\n",
       "503  535815.605398  4.070391e+06  0.125328\n",
       "504  535815.491836  4.070393e+06 -0.100536\n",
       "505  535815.371334  4.070395e+06 -0.526322\n",
       "506  535815.243523  4.070397e+06 -0.550862\n",
       "507  535815.107458  4.070399e+06 -0.075396\n",
       "\n",
       "[508 rows x 3 columns]"
      ]
     },
     "execution_count": 6,
     "metadata": {},
     "output_type": "execute_result"
    }
   ],
   "source": [
    "example = pd.read_csv(\"/home/jovyan/Cproject/test/example_line.txt\",sep=' ',header=None,names=[\"X\",\"Y\",\"Mag\"])\n",
    "example.sort_values(by='X',ascending=False,inplace=True)\n",
    "example"
   ]
  },
  {
   "cell_type": "code",
   "execution_count": 7,
   "metadata": {},
   "outputs": [
    {
     "data": {
      "text/html": [
       "<div>\n",
       "<style scoped>\n",
       "    .dataframe tbody tr th:only-of-type {\n",
       "        vertical-align: middle;\n",
       "    }\n",
       "\n",
       "    .dataframe tbody tr th {\n",
       "        vertical-align: top;\n",
       "    }\n",
       "\n",
       "    .dataframe thead th {\n",
       "        text-align: right;\n",
       "    }\n",
       "</style>\n",
       "<table border=\"1\" class=\"dataframe\">\n",
       "  <thead>\n",
       "    <tr style=\"text-align: right;\">\n",
       "      <th></th>\n",
       "      <th>X</th>\n",
       "      <th>Y</th>\n",
       "      <th>Mag</th>\n",
       "      <th>Calc_mag</th>\n",
       "      <th>Residuals</th>\n",
       "    </tr>\n",
       "  </thead>\n",
       "  <tbody>\n",
       "    <tr>\n",
       "      <th>0</th>\n",
       "      <td>535843.289625</td>\n",
       "      <td>4.069294e+06</td>\n",
       "      <td>-0.220017</td>\n",
       "      <td>1.353733</td>\n",
       "      <td>-1.573750</td>\n",
       "    </tr>\n",
       "    <tr>\n",
       "      <th>1</th>\n",
       "      <td>535843.223230</td>\n",
       "      <td>4.069297e+06</td>\n",
       "      <td>0.060021</td>\n",
       "      <td>1.353944</td>\n",
       "      <td>-1.293923</td>\n",
       "    </tr>\n",
       "    <tr>\n",
       "      <th>2</th>\n",
       "      <td>535843.156118</td>\n",
       "      <td>4.069299e+06</td>\n",
       "      <td>0.439363</td>\n",
       "      <td>1.353369</td>\n",
       "      <td>-0.914006</td>\n",
       "    </tr>\n",
       "    <tr>\n",
       "      <th>3</th>\n",
       "      <td>535843.088408</td>\n",
       "      <td>4.069301e+06</td>\n",
       "      <td>0.419423</td>\n",
       "      <td>1.351945</td>\n",
       "      <td>-0.932522</td>\n",
       "    </tr>\n",
       "    <tr>\n",
       "      <th>4</th>\n",
       "      <td>535843.021542</td>\n",
       "      <td>4.069303e+06</td>\n",
       "      <td>0.199467</td>\n",
       "      <td>1.349613</td>\n",
       "      <td>-1.150146</td>\n",
       "    </tr>\n",
       "    <tr>\n",
       "      <th>...</th>\n",
       "      <td>...</td>\n",
       "      <td>...</td>\n",
       "      <td>...</td>\n",
       "      <td>...</td>\n",
       "      <td>...</td>\n",
       "    </tr>\n",
       "    <tr>\n",
       "      <th>503</th>\n",
       "      <td>535815.605398</td>\n",
       "      <td>4.070391e+06</td>\n",
       "      <td>0.125328</td>\n",
       "      <td>1.124479</td>\n",
       "      <td>-0.999151</td>\n",
       "    </tr>\n",
       "    <tr>\n",
       "      <th>504</th>\n",
       "      <td>535815.491836</td>\n",
       "      <td>4.070393e+06</td>\n",
       "      <td>-0.100536</td>\n",
       "      <td>1.112619</td>\n",
       "      <td>-1.213155</td>\n",
       "    </tr>\n",
       "    <tr>\n",
       "      <th>505</th>\n",
       "      <td>535815.371334</td>\n",
       "      <td>4.070395e+06</td>\n",
       "      <td>-0.526322</td>\n",
       "      <td>1.100921</td>\n",
       "      <td>-1.627243</td>\n",
       "    </tr>\n",
       "    <tr>\n",
       "      <th>506</th>\n",
       "      <td>535815.243523</td>\n",
       "      <td>4.070397e+06</td>\n",
       "      <td>-0.550862</td>\n",
       "      <td>1.089306</td>\n",
       "      <td>-1.640168</td>\n",
       "    </tr>\n",
       "    <tr>\n",
       "      <th>507</th>\n",
       "      <td>535815.107458</td>\n",
       "      <td>4.070399e+06</td>\n",
       "      <td>-0.075396</td>\n",
       "      <td>1.077854</td>\n",
       "      <td>-1.153250</td>\n",
       "    </tr>\n",
       "  </tbody>\n",
       "</table>\n",
       "<p>508 rows × 5 columns</p>\n",
       "</div>"
      ],
      "text/plain": [
       "                 X             Y       Mag  Calc_mag  Residuals\n",
       "0    535843.289625  4.069294e+06 -0.220017  1.353733  -1.573750\n",
       "1    535843.223230  4.069297e+06  0.060021  1.353944  -1.293923\n",
       "2    535843.156118  4.069299e+06  0.439363  1.353369  -0.914006\n",
       "3    535843.088408  4.069301e+06  0.419423  1.351945  -0.932522\n",
       "4    535843.021542  4.069303e+06  0.199467  1.349613  -1.150146\n",
       "..             ...           ...       ...       ...        ...\n",
       "503  535815.605398  4.070391e+06  0.125328  1.124479  -0.999151\n",
       "504  535815.491836  4.070393e+06 -0.100536  1.112619  -1.213155\n",
       "505  535815.371334  4.070395e+06 -0.526322  1.100921  -1.627243\n",
       "506  535815.243523  4.070397e+06 -0.550862  1.089306  -1.640168\n",
       "507  535815.107458  4.070399e+06 -0.075396  1.077854  -1.153250\n",
       "\n",
       "[508 rows x 5 columns]"
      ]
     },
     "execution_count": 7,
     "metadata": {},
     "output_type": "execute_result"
    }
   ],
   "source": [
    "plouf_result = pd.read_csv(\"/home/jovyan/Cproject/test/example_plouf_result.txt\",sep=' ',header=None,names=[\"X\",\"Y\",\"Mag\",\"Calc_mag\",\"Residuals\"])\n",
    "plouf_result.sort_values(by='X',ascending=False,inplace=True)\n",
    "plouf_result"
   ]
  },
  {
   "cell_type": "code",
   "execution_count": 8,
   "metadata": {},
   "outputs": [
    {
     "data": {
      "text/plain": [
       "<matplotlib.collections.PathCollection at 0x7f5825b6e380>"
      ]
     },
     "execution_count": 8,
     "metadata": {},
     "output_type": "execute_result"
    },
    {
     "data": {
      "image/png": "[encoded data removed]",
      "text/plain": [
       "<Figure size 640x480 with 1 Axes>"
      ]
     },
     "metadata": {},
     "output_type": "display_data"
    }
   ],
   "source": [
    "plt.scatter(example.Y,example.Mag)\n",
    "plt.scatter(plouf_result.Y,plouf_result.Calc_mag)"
   ]
  },
  {
   "cell_type": "code",
   "execution_count": 22,
   "metadata": {},
   "outputs": [
    {
     "data": {
      "text/plain": [
       "<matplotlib.collections.PathCollection at 0x7fa73ca65a50>"
      ]
     },
     "execution_count": 22,
     "metadata": {},
     "output_type": "execute_result"
    },
    {
     "data": {
      "image/png": "[encoded data removed]",
      "text/plain": [
       "<Figure size 640x480 with 1 Axes>"
      ]
     },
     "metadata": {},
     "output_type": "display_data"
    }
   ],
   "source": [
    "plt.scatter(example.Y,example.Mag)\n",
    "plt.scatter(plouf_result.Y,plouf_result.Calc_mag)"
   ]
  },
  {
   "cell_type": "code",
   "execution_count": null,
   "metadata": {},
   "outputs": [],
   "source": []
  }
 ],
 "metadata": {
  "kernelspec": {
   "display_name": "notebook",
   "language": "python",
   "name": "python3"
  },
  "language_info": {
   "codemirror_mode": {
    "name": "ipython",
    "version": 3
   },
   "file_extension": ".py",
   "mimetype": "text/x-python",
   "name": "python",
   "nbconvert_exporter": "python",
   "pygments_lexer": "ipython3",
   "version": "3.10.16"
  }
 },
 "nbformat": 4,
 "nbformat_minor": 2
}
