{
 "cells": [
  {
   "cell_type": "code",
   "execution_count": null,
   "metadata": {},
   "outputs": [],
   "source": [
    "import numpy as np\n",
    "from netCDF4 import Dataset\n",
    "import os\n",
    "import csv"
   ]
  },
  {
   "cell_type": "code",
   "execution_count": null,
   "metadata": {},
   "outputs": [],
   "source": [
    "# Open the NetCDF file\n",
    "nc_file = '/home/jovyan/Cproject/data/observed_data/surface_anom_a_cone_1.nc'\n",
    "ds = Dataset(nc_file)\n",
    "\n",
    "# Extract latitude (y) and longitude (x) values\n",
    "y = ds.variables['y'][:]  # Adjust to the correct variable name for latitudes\n",
    "x = ds.variables['x'][:]  # Adjust to the correct variable name for longitudes\n",
    "\n",
    "# Close the dataset to free resources\n",
    "ds.close()"
   ]
  },
  {
   "cell_type": "code",
   "execution_count": null,
   "metadata": {},
   "outputs": [],
   "source": [
    "# Prepare a list to store the data grouped by center\n",
    "grouped_data = []\n",
    "\n",
    "# Iterate over each grid cell (without using meshgrid)\n",
    "for i in range(len(y)-1):\n",
    "    for j in range(len(x)-1):\n",
    "        # The four corners are based on the adjacent grid points\n",
    "        bottom_left_y = y[i]\n",
    "        bottom_left_x = x[j]\n",
    "        \n",
    "        bottom_right_y = y[i]\n",
    "        bottom_right_x = x[j+1]\n",
    "        \n",
    "        top_left_y = y[i+1]\n",
    "        top_left_x = x[j]\n",
    "        \n",
    "        top_right_y = y[i+1]\n",
    "        top_right_x = x[j+1]\n",
    "        \n",
    "        # Calculate the center of the grid cell\n",
    "        center_y = (y[i] + y[i+1]) / 2\n",
    "        center_x = (x[j] + x[j+1]) / 2\n",
    "        \n",
    "        # Create a dictionary to store the center and its corners\n",
    "        cell_data = {\n",
    "            'center': {'y': center_y, 'x': center_x},\n",
    "            'corners': [\n",
    "                {'y': bottom_left_y, 'x': bottom_left_x},\n",
    "                {'y': bottom_right_y, 'x': bottom_right_x},\n",
    "                {'y': top_left_y, 'x': top_left_x},\n",
    "                {'y': top_right_y, 'x': top_right_x}\n",
    "            ]\n",
    "        }\n",
    "        \n",
    "        # Append the cell data to the grouped_data list\n",
    "        grouped_data.append(cell_data)"
   ]
  },
  {
   "cell_type": "code",
   "execution_count": null,
   "metadata": {},
   "outputs": [],
   "source": [
    "# Display the grouped data\n",
    "for idx, cell in enumerate(grouped_data):\n",
    "    print(f\"Cell {idx + 1}:\")\n",
    "    print(f\"  Center: Y: {cell['center']['y']}, X: {cell['center']['x']}\")\n",
    "    for i, corner in enumerate(cell['corners']):\n",
    "        print(f\"  Corner {i + 1}: Y: {corner['y']}, X: {corner['x']}\")\n",
    "    print(\"-\" * 40)"
   ]
  },
  {
   "cell_type": "code",
   "execution_count": null,
   "metadata": {},
   "outputs": [],
   "source": [
    "# Create the directory to store the CSV files if it doesn't exist\n",
    "output_dir = '/home/jovyan/Cproject/grid_shapes/'\n",
    "os.makedirs(output_dir, exist_ok=True)\n",
    "\n",
    "# Iterate over each grid cell (without using meshgrid)\n",
    "for i in range(len(y)-1):\n",
    "    for j in range(len(x)-1):\n",
    "        # The four corners are based on the adjacent grid points\n",
    "        bottom_left_y = y[i]\n",
    "        bottom_left_x = x[j]\n",
    "        \n",
    "        bottom_right_y = y[i]\n",
    "        bottom_right_x = x[j+1]\n",
    "        \n",
    "        top_left_y = y[i+1]\n",
    "        top_left_x = x[j]\n",
    "        \n",
    "        top_right_y = y[i+1]\n",
    "        top_right_x = x[j+1]\n",
    "        \n",
    "        # Prepare the corner data for this grid cell\n",
    "        corner_data = [\n",
    "            [bottom_left_x, bottom_left_y],  # Bottom-left corner\n",
    "            [bottom_right_x, bottom_right_y],  # Bottom-right corner\n",
    "            [top_left_x, top_left_y],  # Top-left corner\n",
    "            [top_right_x, top_right_y]  # Top-right corner\n",
    "        ]\n",
    "        \n",
    "        # Define a unique filename for each set of corners based on the grid position\n",
    "        output_file = os.path.join(output_dir, f'corner_cell_{i}_{j}.csv')\n",
    "        \n",
    "        # Write the corner data to the CSV file (without header)\n",
    "        with open(output_file, 'w', newline='') as corner_file:\n",
    "            writer = csv.writer(corner_file)\n",
    "            # Directly write the corner data without headers\n",
    "            writer.writerows(corner_data)\n",
    "        \n",
    "        print(f\"Corners for cell ({i}, {j}) have been successfully exported to {output_file}\")\n"
   ]
  }
 ],
 "metadata": {
  "kernelspec": {
   "display_name": "notebook",
   "language": "python",
   "name": "python3"
  },
  "language_info": {
   "name": "python",
   "version": "3.10.16"
  }
 },
 "nbformat": 4,
 "nbformat_minor": 2
}
