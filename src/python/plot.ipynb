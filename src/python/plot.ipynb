{
 "cells": [
  {
   "cell_type": "code",
   "execution_count": 5,
   "metadata": {},
   "outputs": [],
   "source": [
    "import pandas as pd \n",
    "import matplotlib.pyplot as plt\n",
    "import json"
   ]
  },
  {
   "cell_type": "code",
   "execution_count": 2,
   "metadata": {},
   "outputs": [],
   "source": [
    "def plot_line_and_polygon(shape: pd.DataFrame, points: pd.DataFrame = None) -> None:\n",
    "    fig, ax = plt.subplots(figsize=(9,13))\n",
    "\n",
    "    if points is not None:\n",
    "        ax.plot(points.Easting,points.Northing,color='red',markersize=3,label='Observed Data')\n",
    "        \n",
    "    ax.plot(shape.Easting,shape.Northing,linestyle='dashed',color='black',label='Magnetic Body')\n",
    "    ax.scatter(shape.Easting,shape.Northing,color='blue',label='Verticies')\n",
    "\n",
    "    ax.legend(loc='upper right')\n",
    "    plt.savefig('./shape.png')"
   ]
  },
  {
   "cell_type": "code",
   "execution_count": 3,
   "metadata": {},
   "outputs": [],
   "source": [
    "def save_json(all_shapes, filename=\"./data/shape_data.json\"):\n",
    "    \"\"\"Save the coordinates of multiple shapes to a JSON file.\"\"\"\n",
    "    json_data = {\"shapes\": all_shapes}\n",
    "    \n",
    "    # Serializing json\n",
    "    json_object = json.dumps(json_data, indent=4)\n",
    "    \n",
    "    # Writing to a JSON file\n",
    "    with open(filename, \"w\") as outfile:\n",
    "        outfile.write(json_object)\n",
    "\n",
    "    print('json saved to: {}\\n'.format(outfile.name))"
   ]
  },
  {
   "cell_type": "code",
   "execution_count": null,
   "metadata": {},
   "outputs": [],
   "source": [
    "pts = pd.read_csv(\"/home/jovyan/Cproject/data/observed_data/points_anom_a_cone_1.csv\",usecols=[0,1,2],header=None,sep='[\\\\s,]',names=['Easting','Northing','Mag'],engine='python')\n",
    "print('\\nFile head: \\n',pts.head())"
   ]
  },
  {
   "cell_type": "code",
   "execution_count": null,
   "metadata": {},
   "outputs": [],
   "source": [
    "shape = pd.read_csv('/home/jovyan/Cproject/data/shape_data/qgis_cone1_shape.csv',skiprows=1,usecols=[0,1],sep='[\\\\s,]',names=['Easting','Northing'],engine='python')\n",
    "print('\\nFile head: \\n',shape.head())"
   ]
  },
  {
   "cell_type": "code",
   "execution_count": null,
   "metadata": {},
   "outputs": [],
   "source": [
    "plot_line_and_polygon(shape=shape,points=pts)"
   ]
  },
  {
   "cell_type": "code",
   "execution_count": null,
   "metadata": {},
   "outputs": [],
   "source": [
    "all_shapes = []  # List to hold all shape data\n",
    "\n",
    "#assuming single shape\n",
    "shape_data = {\n",
    "    'name': f\"shape 1\",\n",
    "    'x': shape.Easting.to_list(),\n",
    "    'y': shape.Northing.to_list(),\n",
    "    'magnetic_inclination': -67,\n",
    "    'magnetic_declination': 177,\n",
    "    'magnetic_intensity': 1,\n",
    "    'top': 10,\n",
    "    'bottom': 50\n",
    "}\n",
    "\n",
    "all_shapes.append(shape_data)\n",
    "\n",
    "# Save all shapes data to JSON\n",
    "save_json(all_shapes,filename='/home/jovyan/Cproject/data/shape_data/cone1_shape.json')"
   ]
  },
  {
   "cell_type": "code",
   "execution_count": null,
   "metadata": {},
   "outputs": [],
   "source": []
  },
  {
   "cell_type": "code",
   "execution_count": null,
   "metadata": {},
   "outputs": [],
   "source": []
  }
 ],
 "metadata": {
  "kernelspec": {
   "display_name": "notebook",
   "language": "python",
   "name": "python3"
  },
  "language_info": {
   "codemirror_mode": {
    "name": "ipython",
    "version": 3
   },
   "file_extension": ".py",
   "mimetype": "text/x-python",
   "name": "python",
   "nbconvert_exporter": "python",
   "pygments_lexer": "ipython3",
   "version": "3.10.16"
  }
 },
 "nbformat": 4,
 "nbformat_minor": 2
}
